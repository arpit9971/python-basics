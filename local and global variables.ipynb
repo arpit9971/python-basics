{
 "cells": [
  {
   "cell_type": "code",
   "execution_count": 2,
   "metadata": {},
   "outputs": [
    {
     "name": "stdout",
     "output_type": "stream",
     "text": [
      "5\n",
      "value of 10\n"
     ]
    }
   ],
   "source": [
    "x=10\n",
    "def f1():\n",
    "    x=5\n",
    "    print(x)\n",
    "f1()\n",
    "print(\"value of\",x)"
   ]
  },
  {
   "cell_type": "code",
   "execution_count": 4,
   "metadata": {},
   "outputs": [
    {
     "name": "stdout",
     "output_type": "stream",
     "text": [
      "outside function 10\n",
      "inside function 5\n",
      "outside function 10\n"
     ]
    }
   ],
   "source": [
    "y=10   # global variable\n",
    "print(\"outside function\",y)\n",
    "def f1():\n",
    "    y=5\n",
    "    print(\"inside function\",y)\n",
    "f1()\n",
    "print(\"outside function\",y)\n"
   ]
  },
  {
   "cell_type": "code",
   "execution_count": 5,
   "metadata": {},
   "outputs": [
    {
     "name": "stdout",
     "output_type": "stream",
     "text": [
      "outside function 10\n",
      "inside function 5\n",
      "outside function 5\n"
     ]
    }
   ],
   "source": [
    "y=10   # global variable\n",
    "print(\"outside function\",y)\n",
    "def f1():\n",
    "    global y # when global is used before variable then that variable also start acting as global variable ,no matter that it is static variable\n",
    "    y=5\n",
    "    print(\"inside function\",y)\n",
    "f1()\n",
    "print(\"outside function\",y)\n"
   ]
  },
  {
   "cell_type": "code",
   "execution_count": 7,
   "metadata": {},
   "outputs": [
    {
     "name": "stdout",
     "output_type": "stream",
     "text": [
      "inside function 5\n",
      "outside function 5\n"
     ]
    }
   ],
   "source": [
    "def f1():\n",
    "    global y\n",
    "    y=5\n",
    "    print(\"inside function\",y)\n",
    "f1()\n",
    "print(\"outside function\",y)  # local variable y becomes global variable bcoz of using word global.\n"
   ]
  },
  {
   "cell_type": "code",
   "execution_count": 9,
   "metadata": {},
   "outputs": [
    {
     "name": "stdout",
     "output_type": "stream",
     "text": [
      "local value inside f1 is = 5\n",
      "global value inside f1 is= 10\n"
     ]
    }
   ],
   "source": [
    "y=10   # global variable.\n",
    "def f1():\n",
    "    y=5\n",
    "    print(\"local value inside f1 is =\",y) #prints local variable value of y.\n",
    "    print(\"global value inside f1 is=\",globals()['y'])  #by using this we can print global value inside the static function.\n",
    "f1()\n",
    "\n"
   ]
  },
  {
   "cell_type": "code",
   "execution_count": null,
   "metadata": {},
   "outputs": [],
   "source": []
  }
 ],
 "metadata": {
  "kernelspec": {
   "display_name": "Python 3",
   "language": "python",
   "name": "python3"
  },
  "language_info": {
   "codemirror_mode": {
    "name": "ipython",
    "version": 3
   },
   "file_extension": ".py",
   "mimetype": "text/x-python",
   "name": "python",
   "nbconvert_exporter": "python",
   "pygments_lexer": "ipython3",
   "version": "3.7.3"
  }
 },
 "nbformat": 4,
 "nbformat_minor": 2
}
