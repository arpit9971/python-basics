{
 "cells": [
  {
   "cell_type": "code",
   "execution_count": 8,
   "metadata": {},
   "outputs": [
    {
     "name": "stdout",
     "output_type": "stream",
     "text": [
      "Average of numbers is= 15.0\n",
      "(12, 14, 13, 17, 19) <class 'tuple'>\n"
     ]
    }
   ],
   "source": [
    "# VARIABLE LENGTH ARGUMENTS: It means you can pass any no. of variables while calling the function.\n",
    "def average(*n): # Now n is tuple. You can pass any number of arguments to it.\n",
    "    sum=0\n",
    "    for x in n:   #n is tuple so it is iterable.\n",
    "        sum=sum+x\n",
    "    if len(n)!=0:  # Atleast there is one element\n",
    "        avg=sum/len(n)\n",
    "    print(\"Average of numbers is=\",avg)\n",
    "    print(n,type(n))   # Here we will get to know that *n is tuple which can accept any no. of arguments.\n",
    "average(12,14,13,17,19)\n"
   ]
  },
  {
   "cell_type": "code",
   "execution_count": 10,
   "metadata": {},
   "outputs": [
    {
     "name": "stdout",
     "output_type": "stream",
     "text": [
      "playernamr= Arpit\n",
      "total points= 65\n"
     ]
    }
   ],
   "source": [
    "def f1(playername,*points):\n",
    "    print(\"playernamr=\",playername)\n",
    "    total_points=0\n",
    "    for x in points:\n",
    "        total_points=total_points + x\n",
    "    print(\"total points=\",total_points)\n",
    "f1(\"Arpit\",12,14,15,13,11)    #positional arguments"
   ]
  },
  {
   "cell_type": "code",
   "execution_count": 13,
   "metadata": {},
   "outputs": [
    {
     "ename": "TypeError",
     "evalue": "f1() got multiple values for argument 'playername'",
     "output_type": "error",
     "traceback": [
      "\u001b[1;31m---------------------------------------------------------------------------\u001b[0m",
      "\u001b[1;31mTypeError\u001b[0m                                 Traceback (most recent call last)",
      "\u001b[1;32m<ipython-input-13-7526cf646938>\u001b[0m in \u001b[0;36m<module>\u001b[1;34m\u001b[0m\n\u001b[0;32m      5\u001b[0m         \u001b[0mtotal_points\u001b[0m\u001b[1;33m=\u001b[0m\u001b[0mtotal_points\u001b[0m \u001b[1;33m+\u001b[0m \u001b[0mx\u001b[0m\u001b[1;33m\u001b[0m\u001b[1;33m\u001b[0m\u001b[0m\n\u001b[0;32m      6\u001b[0m     \u001b[0mprint\u001b[0m\u001b[1;33m(\u001b[0m\u001b[1;34m\"total points=\"\u001b[0m\u001b[1;33m,\u001b[0m\u001b[0mtotal_points\u001b[0m\u001b[1;33m)\u001b[0m\u001b[1;33m\u001b[0m\u001b[1;33m\u001b[0m\u001b[0m\n\u001b[1;32m----> 7\u001b[1;33m \u001b[0mf1\u001b[0m\u001b[1;33m(\u001b[0m\u001b[1;36m12\u001b[0m\u001b[1;33m,\u001b[0m\u001b[1;36m14\u001b[0m\u001b[1;33m,\u001b[0m\u001b[1;36m15\u001b[0m\u001b[1;33m,\u001b[0m\u001b[1;36m13\u001b[0m\u001b[1;33m,\u001b[0m\u001b[1;36m11\u001b[0m\u001b[1;33m,\u001b[0m\u001b[0mplayername\u001b[0m\u001b[1;33m=\u001b[0m\u001b[1;34m\"bajpai\"\u001b[0m\u001b[1;33m)\u001b[0m\u001b[1;33m\u001b[0m\u001b[1;33m\u001b[0m\u001b[0m\n\u001b[0m",
      "\u001b[1;31mTypeError\u001b[0m: f1() got multiple values for argument 'playername'"
     ]
    }
   ],
   "source": [
    "def f1(playername,*points):\n",
    "    print(\"playernamr=\",playername)\n",
    "    total_points=0\n",
    "    for x in points:\n",
    "        total_points=total_points + x\n",
    "    print(\"total points=\",total_points)\n",
    "f1(12,14,15,13,11,playername=\"bajpai\")  "
   ]
  },
  {
   "cell_type": "code",
   "execution_count": 16,
   "metadata": {},
   "outputs": [
    {
     "name": "stdout",
     "output_type": "stream",
     "text": [
      "playernamr= bajpai\n",
      "total points= 65\n"
     ]
    }
   ],
   "source": [
    "# Always keep in mind that while calling any function , positional argument should not come after keyword argument.\n",
    "# Here , positional arguments are writtten first so we are geting the result. Also see the order in which they are defined in the original function.\n",
    "def f1(*points,playername):\n",
    "    print(\"playernamr=\",playername)\n",
    "    total_points=0\n",
    "    for x in points:\n",
    "        total_points=total_points + x\n",
    "    print(\"total points=\",total_points)\n",
    "f1(12,14,15,13,11,playername=\"bajpai\")  "
   ]
  },
  {
   "cell_type": "code",
   "execution_count": null,
   "metadata": {},
   "outputs": [],
   "source": []
  },
  {
   "cell_type": "code",
   "execution_count": null,
   "metadata": {},
   "outputs": [],
   "source": [
    "# In all the examples there arevery minute and basic changes."
   ]
  },
  {
   "cell_type": "code",
   "execution_count": 14,
   "metadata": {},
   "outputs": [
    {
     "ename": "SyntaxError",
     "evalue": "positional argument follows keyword argument (<ipython-input-14-1f70d4062004>, line 7)",
     "output_type": "error",
     "traceback": [
      "\u001b[1;36m  File \u001b[1;32m\"<ipython-input-14-1f70d4062004>\"\u001b[1;36m, line \u001b[1;32m7\u001b[0m\n\u001b[1;33m    f1(playername=\"bajpai\",12,14,15,13,11)\u001b[0m\n\u001b[1;37m                          ^\u001b[0m\n\u001b[1;31mSyntaxError\u001b[0m\u001b[1;31m:\u001b[0m positional argument follows keyword argument\n"
     ]
    }
   ],
   "source": [
    "def f1(playername,*points):\n",
    "    print(\"playernamr=\",playername)\n",
    "    total_points=0\n",
    "    for x in points:\n",
    "        total_points=total_points + x\n",
    "    print(\"total points=\",total_points)\n",
    "f1(playername=\"bajpai\",12,14,15,13,11)  # positional argument should never folllow keyword argument."
   ]
  },
  {
   "cell_type": "code",
   "execution_count": 11,
   "metadata": {},
   "outputs": [
    {
     "name": "stdout",
     "output_type": "stream",
     "text": [
      "playernamr= 12\n",
      "total points= 53\n"
     ]
    }
   ],
   "source": [
    "def f1(playername,*points):\n",
    "    print(\"playername=\",playername)\n",
    "    total_points=0\n",
    "    for x in points:\n",
    "        total_points=total_points + x\n",
    "    print(\"total points=\",total_points)\n",
    "f1(12,14,15,13,11)      # positional arguments"
   ]
  },
  {
   "cell_type": "code",
   "execution_count": 12,
   "metadata": {},
   "outputs": [
    {
     "name": "stdout",
     "output_type": "stream",
     "text": [
      "playernamr= 12\n"
     ]
    },
    {
     "ename": "TypeError",
     "evalue": "unsupported operand type(s) for +: 'int' and 'str'",
     "output_type": "error",
     "traceback": [
      "\u001b[1;31m---------------------------------------------------------------------------\u001b[0m",
      "\u001b[1;31mTypeError\u001b[0m                                 Traceback (most recent call last)",
      "\u001b[1;32m<ipython-input-12-6d443c9d00e5>\u001b[0m in \u001b[0;36m<module>\u001b[1;34m\u001b[0m\n\u001b[0;32m      5\u001b[0m         \u001b[0mtotal_points\u001b[0m\u001b[1;33m=\u001b[0m\u001b[0mtotal_points\u001b[0m \u001b[1;33m+\u001b[0m \u001b[0mx\u001b[0m\u001b[1;33m\u001b[0m\u001b[1;33m\u001b[0m\u001b[0m\n\u001b[0;32m      6\u001b[0m     \u001b[0mprint\u001b[0m\u001b[1;33m(\u001b[0m\u001b[1;34m\"total points=\"\u001b[0m\u001b[1;33m,\u001b[0m\u001b[0mtotal_points\u001b[0m\u001b[1;33m)\u001b[0m\u001b[1;33m\u001b[0m\u001b[1;33m\u001b[0m\u001b[0m\n\u001b[1;32m----> 7\u001b[1;33m \u001b[0mf1\u001b[0m\u001b[1;33m(\u001b[0m\u001b[1;36m12\u001b[0m\u001b[1;33m,\u001b[0m\u001b[1;36m14\u001b[0m\u001b[1;33m,\u001b[0m\u001b[1;36m15\u001b[0m\u001b[1;33m,\u001b[0m\u001b[1;36m13\u001b[0m\u001b[1;33m,\u001b[0m\u001b[1;36m11\u001b[0m\u001b[1;33m,\u001b[0m\u001b[1;34m\"Arpit\"\u001b[0m\u001b[1;33m)\u001b[0m\u001b[1;33m\u001b[0m\u001b[1;33m\u001b[0m\u001b[0m\n\u001b[0m",
      "\u001b[1;32m<ipython-input-12-6d443c9d00e5>\u001b[0m in \u001b[0;36mf1\u001b[1;34m(playername, *points)\u001b[0m\n\u001b[0;32m      3\u001b[0m     \u001b[0mtotal_points\u001b[0m\u001b[1;33m=\u001b[0m\u001b[1;36m0\u001b[0m\u001b[1;33m\u001b[0m\u001b[1;33m\u001b[0m\u001b[0m\n\u001b[0;32m      4\u001b[0m     \u001b[1;32mfor\u001b[0m \u001b[0mx\u001b[0m \u001b[1;32min\u001b[0m \u001b[0mpoints\u001b[0m\u001b[1;33m:\u001b[0m\u001b[1;33m\u001b[0m\u001b[1;33m\u001b[0m\u001b[0m\n\u001b[1;32m----> 5\u001b[1;33m         \u001b[0mtotal_points\u001b[0m\u001b[1;33m=\u001b[0m\u001b[0mtotal_points\u001b[0m \u001b[1;33m+\u001b[0m \u001b[0mx\u001b[0m\u001b[1;33m\u001b[0m\u001b[1;33m\u001b[0m\u001b[0m\n\u001b[0m\u001b[0;32m      6\u001b[0m     \u001b[0mprint\u001b[0m\u001b[1;33m(\u001b[0m\u001b[1;34m\"total points=\"\u001b[0m\u001b[1;33m,\u001b[0m\u001b[0mtotal_points\u001b[0m\u001b[1;33m)\u001b[0m\u001b[1;33m\u001b[0m\u001b[1;33m\u001b[0m\u001b[0m\n\u001b[0;32m      7\u001b[0m \u001b[0mf1\u001b[0m\u001b[1;33m(\u001b[0m\u001b[1;36m12\u001b[0m\u001b[1;33m,\u001b[0m\u001b[1;36m14\u001b[0m\u001b[1;33m,\u001b[0m\u001b[1;36m15\u001b[0m\u001b[1;33m,\u001b[0m\u001b[1;36m13\u001b[0m\u001b[1;33m,\u001b[0m\u001b[1;36m11\u001b[0m\u001b[1;33m,\u001b[0m\u001b[1;34m\"Arpit\"\u001b[0m\u001b[1;33m)\u001b[0m\u001b[1;33m\u001b[0m\u001b[1;33m\u001b[0m\u001b[0m\n",
      "\u001b[1;31mTypeError\u001b[0m: unsupported operand type(s) for +: 'int' and 'str'"
     ]
    }
   ],
   "source": [
    "def f1(playername,*points):\n",
    "    print(\"playernamr=\",playername)\n",
    "    total_points=0\n",
    "    for x in points:\n",
    "        total_points=total_points + x\n",
    "    print(\"total points=\",total_points)\n",
    "f1(12,14,15,13,11,\"Arpit\")   #positional Arguments"
   ]
  }
 ],
 "metadata": {
  "kernelspec": {
   "display_name": "Python 3",
   "language": "python",
   "name": "python3"
  },
  "language_info": {
   "codemirror_mode": {
    "name": "ipython",
    "version": 3
   },
   "file_extension": ".py",
   "mimetype": "text/x-python",
   "name": "python",
   "nbconvert_exporter": "python",
   "pygments_lexer": "ipython3",
   "version": "3.7.3"
  }
 },
 "nbformat": 4,
 "nbformat_minor": 2
}
