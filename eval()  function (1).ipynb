{
 "cells": [
  {
   "cell_type": "code",
   "execution_count": 6,
   "metadata": {},
   "outputs": [
    {
     "name": "stdout",
     "output_type": "stream",
     "text": [
      "enter the value'Arpit'\n",
      "Arpit <class 'str'>\n"
     ]
    }
   ],
   "source": [
    "x=eval(input(\"enter the value\"))  #no typecasting is done using int or float . Instead eval is used to evaluate the string. \n",
    "print(x,type(x))\n"
   ]
  },
  {
   "cell_type": "code",
   "execution_count": 10,
   "metadata": {},
   "outputs": [
    {
     "name": "stdout",
     "output_type": "stream",
     "text": [
      "enter value[1,2,3,4,5]\n",
      "[1, 2, 3, 4, 5]\n"
     ]
    }
   ],
   "source": [
    "x=eval(input(\"enter value\"))\n",
    "print(x)  # we are passing the lists."
   ]
  },
  {
   "cell_type": "code",
   "execution_count": 11,
   "metadata": {},
   "outputs": [
    {
     "name": "stdout",
     "output_type": "stream",
     "text": [
      "enter value(1,2,3,4,5)\n",
      "(1, 2, 3, 4, 5)\n"
     ]
    }
   ],
   "source": [
    "x=eval(input(\"enter value\"))\n",
    "print(x)  # we are passing the tuples."
   ]
  },
  {
   "cell_type": "code",
   "execution_count": 15,
   "metadata": {},
   "outputs": [
    {
     "name": "stdout",
     "output_type": "stream",
     "text": [
      "enter value{12,3,4,5}\n",
      "{5, 3, 12, 4}\n"
     ]
    }
   ],
   "source": [
    "x=eval(input(\"enter value\"))\n",
    "print(x)  # we are passing the set"
   ]
  },
  {
   "cell_type": "code",
   "execution_count": 16,
   "metadata": {},
   "outputs": [
    {
     "name": "stdout",
     "output_type": "stream",
     "text": [
      "enter value{1:'a',2:'b'}\n",
      "{1: 'a', 2: 'b'}\n"
     ]
    }
   ],
   "source": [
    "x=eval(input(\"enter value\"))\n",
    "print(x)  # we are passing the dictionary"
   ]
  },
  {
   "cell_type": "code",
   "execution_count": 7,
   "metadata": {},
   "outputs": [
    {
     "name": "stdout",
     "output_type": "stream",
     "text": [
      "enter the value123\n",
      "123 <class 'int'>\n"
     ]
    }
   ],
   "source": [
    "x=eval(input(\"enter the value\"))\n",
    "print(x,type(x))\n"
   ]
  },
  {
   "cell_type": "code",
   "execution_count": 8,
   "metadata": {},
   "outputs": [
    {
     "name": "stdout",
     "output_type": "stream",
     "text": [
      "enter the value1.5\n",
      "1.5 <class 'float'>\n"
     ]
    }
   ],
   "source": [
    "x=eval(input(\"enter the value\"))\n",
    "print(x,type(x))\n",
    "# Hence eval() function recognizes every data type by its own and ecaluates the string."
   ]
  }
 ],
 "metadata": {
  "kernelspec": {
   "display_name": "Python 3",
   "language": "python",
   "name": "python3"
  },
  "language_info": {
   "codemirror_mode": {
    "name": "ipython",
    "version": 3
   },
   "file_extension": ".py",
   "mimetype": "text/x-python",
   "name": "python",
   "nbconvert_exporter": "python",
   "pygments_lexer": "ipython3",
   "version": "3.7.3"
  }
 },
 "nbformat": 4,
 "nbformat_minor": 2
}
