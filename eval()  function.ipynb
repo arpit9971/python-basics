{
 "cells": [
  {
   "cell_type": "code",
   "execution_count": 6,
   "metadata": {},
   "outputs": [
    {
     "name": "stdout",
     "output_type": "stream",
     "text": [
      "enter the value'Arpit'\n",
      "Arpit <class 'str'>\n"
     ]
    }
   ],
   "source": [
    "x=eval(input(\"enter the value\"))  #no typecasting is done using int or float . Instead eval is used to evaluate the string. \n",
    "print(x,type(x))\n"
   ]
  },
  {
   "cell_type": "code",
   "execution_count": 7,
   "metadata": {},
   "outputs": [
    {
     "name": "stdout",
     "output_type": "stream",
     "text": [
      "enter the value123\n",
      "123 <class 'int'>\n"
     ]
    }
   ],
   "source": [
    "x=eval(input(\"enter the value\"))\n",
    "print(x,type(x))\n"
   ]
  },
  {
   "cell_type": "code",
   "execution_count": 8,
   "metadata": {},
   "outputs": [
    {
     "name": "stdout",
     "output_type": "stream",
     "text": [
      "enter the value1.5\n",
      "1.5 <class 'float'>\n"
     ]
    }
   ],
   "source": [
    "x=eval(input(\"enter the value\"))\n",
    "print(x,type(x))\n",
    "# Hence eval() function recognizes every data type by its own and ecaluates the string."
   ]
  }
 ],
 "metadata": {
  "kernelspec": {
   "display_name": "Python 3",
   "language": "python",
   "name": "python3"
  },
  "language_info": {
   "codemirror_mode": {
    "name": "ipython",
    "version": 3
   },
   "file_extension": ".py",
   "mimetype": "text/x-python",
   "name": "python",
   "nbconvert_exporter": "python",
   "pygments_lexer": "ipython3",
   "version": "3.7.3"
  }
 },
 "nbformat": 4,
 "nbformat_minor": 2
}
