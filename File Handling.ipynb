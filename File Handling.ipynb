{
 "cells": [
  {
   "cell_type": "code",
   "execution_count": 30,
   "metadata": {},
   "outputs": [
    {
     "data": {
      "text/plain": [
       "46"
      ]
     },
     "execution_count": 30,
     "metadata": {},
     "output_type": "execute_result"
    }
   ],
   "source": [
    "f=open('arpit.txt','w') # if file would not exist then 'w' will create new file of this name. \n",
    "f.write(\"Hello everyone. Welcome to python programming.\") # 'w' mode only enables us to write on the file.\n",
    "# 'w' mode also deletes the prvious data on the file."
   ]
  },
  {
   "cell_type": "code",
   "execution_count": 31,
   "metadata": {},
   "outputs": [
    {
     "data": {
      "text/plain": [
       "'Hello everyone. Welcome to python programming.'"
      ]
     },
     "execution_count": 31,
     "metadata": {},
     "output_type": "execute_result"
    }
   ],
   "source": [
    "f1=open('arpit.txt','r') # with help of 'r' mode we can read the file.\n",
    "f1.read()"
   ]
  },
  {
   "cell_type": "code",
   "execution_count": 47,
   "metadata": {},
   "outputs": [
    {
     "data": {
      "text/plain": [
       "'Hello everyone. Welcome to python programming.My Name is Arpit Bajpai.\\nMy Name is Arpit Bajpai'"
      ]
     },
     "execution_count": 47,
     "metadata": {},
     "output_type": "execute_result"
    }
   ],
   "source": [
    "f=open('arpit.txt','a') # append mode . It does not deletes the previous data on the file.\n",
    "f.write(\"My Name is Arpit Bajpai\")\n",
    "f=open('arpit.txt','r')\n",
    "f.read()"
   ]
  },
  {
   "cell_type": "code",
   "execution_count": 52,
   "metadata": {},
   "outputs": [
    {
     "data": {
      "text/plain": [
       "'After reading the file , pointer will go at last . So now the added text '"
      ]
     },
     "execution_count": 52,
     "metadata": {},
     "output_type": "execute_result"
    }
   ],
   "source": [
    "f=open('arpit.txt','r+')\n",
    "f.read() # first we are reading the file.\n",
    "f.write(\" my name is Arpit Bajpai. I am persuing my engineering\") #After reading the file , pointer will go at last.\n",
    " # pointer will go to last when we first read the file . now when we will write then it will go at end means new text will append.\n"
   ]
  },
  {
   "cell_type": "code",
   "execution_count": 56,
   "metadata": {},
   "outputs": [
    {
     "data": {
      "text/plain": [
       "'ARPIT BAJPAIne. Welcome to python programming.My Name is Arpit Bajpai.\\nMy Name is Arpit Bajpai my name is Arpit Bajpai. I am persuing my engineering my name is Arpit Bajpai. I am persuing my engineering my name is Arpit Bajpai. I am persuing my engineering. my name is Arpit Bajpai. I am persuing my engineering'"
      ]
     },
     "execution_count": 56,
     "metadata": {},
     "output_type": "execute_result"
    }
   ],
   "source": [
    "f=open('arpit.txt','r+') # here first writing is done. so initially pointer is at starting point , so first few characters are replaced. \n",
    "f.write('ARPIT BAJPAI') \n",
    "f.seek(0,0)\n",
    "f.read()"
   ]
  },
  {
   "cell_type": "code",
   "execution_count": 60,
   "metadata": {},
   "outputs": [
    {
     "data": {
      "text/plain": [
       "''"
      ]
     },
     "execution_count": 60,
     "metadata": {},
     "output_type": "execute_result"
    }
   ],
   "source": [
    "f=open('arpit.txt','a+')\n",
    "f.write('/n Hello Delhi.')\n",
    "f.read()"
   ]
  }
 ],
 "metadata": {
  "kernelspec": {
   "display_name": "Python 3",
   "language": "python",
   "name": "python3"
  },
  "language_info": {
   "codemirror_mode": {
    "name": "ipython",
    "version": 3
   },
   "file_extension": ".py",
   "mimetype": "text/x-python",
   "name": "python",
   "nbconvert_exporter": "python",
   "pygments_lexer": "ipython3",
   "version": "3.7.3"
  }
 },
 "nbformat": 4,
 "nbformat_minor": 2
}
