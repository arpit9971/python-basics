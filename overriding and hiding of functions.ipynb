{
 "cells": [
  {
   "cell_type": "code",
   "execution_count": 5,
   "metadata": {},
   "outputs": [
    {
     "name": "stdout",
     "output_type": "stream",
     "text": [
      "derived f1\n"
     ]
    }
   ],
   "source": [
    "class base:\n",
    "    def __init__(self):\n",
    "        self.a=10\n",
    "    def f1(self):\n",
    "        print(\"base f1\")\n",
    "class derived(base):\n",
    "    def __init__(self):\n",
    "        self.b=20 #b is instance variable\n",
    "    def f1(self):\n",
    "        print(\"derived f1\")\n",
    "        \n",
    "obj=derived()\n",
    "obj.f1()   # since object was of derived class so f1() of derived class runs."
   ]
  },
  {
   "cell_type": "code",
   "execution_count": null,
   "metadata": {},
   "outputs": [],
   "source": []
  },
  {
   "cell_type": "code",
   "execution_count": 6,
   "metadata": {},
   "outputs": [
    {
     "name": "stdout",
     "output_type": "stream",
     "text": [
      "derived f1\n",
      "base f1\n"
     ]
    }
   ],
   "source": [
    "class base:\n",
    "    def __init__(self):\n",
    "        self.a=10\n",
    "    def f1(self):\n",
    "        print(\"base f1\")\n",
    "class derived(base):\n",
    "    def __init__(self):\n",
    "        self.b=20 #b is instance variable\n",
    "    def f1(self):\n",
    "        print(\"derived f1\")\n",
    "        super().f1() # this will also call the f1() of parent class.  \n",
    "obj=derived()\n",
    "obj.f1()   # since object was of derived class so f1() of derived class runs.\n"
   ]
  },
  {
   "cell_type": "code",
   "execution_count": null,
   "metadata": {},
   "outputs": [],
   "source": [
    "class base:\n",
    "    def __init__(self):\n",
    "        self.a=10\n",
    "    def f1(self):\n",
    "        print(\"base f1\")\n",
    "class derived(base):\n",
    "    def __init__(self):\n",
    "        self.b=20 #b is instance variable\n",
    "    def f1(self):\n",
    "        print(\"derived f1\")\n",
    "        super().f1() # this will also call the f1() of parent class.  \n",
    "obj=derived()\n",
    "obj.f1()   # since object was of derived class so f1() of derived class runs.\n"
   ]
  },
  {
   "cell_type": "code",
   "execution_count": 14,
   "metadata": {},
   "outputs": [
    {
     "name": "stdout",
     "output_type": "stream",
     "text": [
      "derived f1\n"
     ]
    }
   ],
   "source": [
    "# function hiding\n",
    "class base:\n",
    "    def __init__(self):\n",
    "        self.a=10\n",
    "    def f1(self):\n",
    "        print(\"base f1\")\n",
    "class derived(base):\n",
    "    def __init__(self):\n",
    "        self.a=20\n",
    "    def f1(self,x):\n",
    "      \n",
    "        print(\"derived f1\")\n",
    "        \n",
    "obj=derived()\n",
    "obj.f1(14)  #it will search f1() of derived class only.\n",
    "#now to execute f1() of parent class you need to call it explicitly using super().f1(arguments except self) .\n"
   ]
  },
  {
   "cell_type": "code",
   "execution_count": 17,
   "metadata": {},
   "outputs": [
    {
     "name": "stdout",
     "output_type": "stream",
     "text": [
      "base f1\n",
      "derived f1\n"
     ]
    }
   ],
   "source": [
    "# function hiding\n",
    "class base:\n",
    "    def __init__(self):\n",
    "        self.a=10\n",
    "    def f1(self):\n",
    "        print(\"base f1\")\n",
    "class derived(base):\n",
    "    def __init__(self):\n",
    "        self.a=20\n",
    "    def f1(self,x):\n",
    "        super().f1()\n",
    "        print(\"derived f1\")\n",
    "        \n",
    "obj=derived()\n",
    "obj.f1(14)  #it will search f1() of derived class only.\n",
    "#now to execute f1() of parent class you need to call it explicitly using super().f1(arguments except self) .\n"
   ]
  }
 ],
 "metadata": {
  "kernelspec": {
   "display_name": "Python 3",
   "language": "python",
   "name": "python3"
  },
  "language_info": {
   "codemirror_mode": {
    "name": "ipython",
    "version": 3
   },
   "file_extension": ".py",
   "mimetype": "text/x-python",
   "name": "python",
   "nbconvert_exporter": "python",
   "pygments_lexer": "ipython3",
   "version": "3.7.3"
  }
 },
 "nbformat": 4,
 "nbformat_minor": 2
}
