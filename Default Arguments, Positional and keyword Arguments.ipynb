{
 "cells": [
  {
   "cell_type": "code",
   "execution_count": 1,
   "metadata": {},
   "outputs": [
    {
     "name": "stdout",
     "output_type": "stream",
     "text": [
      "hello\n",
      "None\n",
      "<class 'NoneType'>\n"
     ]
    }
   ],
   "source": [
    "def f1():\n",
    "    print(\"hello\")\n",
    "x=f1()\n",
    "print(x)   # when func is returning nothing and you are explicitly calling to return then it always return \"NONE\".\n",
    "print(type(x))   # In other programming languages this would considered as an error."
   ]
  },
  {
   "cell_type": "code",
   "execution_count": 5,
   "metadata": {},
   "outputs": [
    {
     "name": "stdout",
     "output_type": "stream",
     "text": [
      "result is 25\n"
     ]
    }
   ],
   "source": [
    "#concept of default Arguments\n",
    "def sum(a,b,c=0):  #here c is the default argument. If it's value will not be passed then c=0 will be used.\n",
    "    ans=a+b+c\n",
    "    print(\"result is\",ans)\n",
    "sum(12,13) # We have declared the function for 3 arguments but 'c' was default ans its value '0' is used while addition.    "
   ]
  },
  {
   "cell_type": "code",
   "execution_count": 6,
   "metadata": {},
   "outputs": [
    {
     "name": "stdout",
     "output_type": "stream",
     "text": [
      "result is 39\n"
     ]
    }
   ],
   "source": [
    "#concept of default Arguments\n",
    "def sum(a,b,c=0):  #here c is the default argument. If it's value will not be passed then c=0 will be used.\n",
    "    ans=a+b+c\n",
    "    print(\"result is\",ans)\n",
    "sum(12,13,14) # when you will pass all the values then default value of 'c' will not be used. Similarly you can create any arguments as default in the function."
   ]
  },
  {
   "cell_type": "code",
   "execution_count": 8,
   "metadata": {},
   "outputs": [
    {
     "name": "stdout",
     "output_type": "stream",
     "text": [
      "a= 12 b= 16\n"
     ]
    }
   ],
   "source": [
    "# concept of positional_arguments\n",
    "def f1(a,b):\n",
    "    print(\"a=\",a,\"b=\",b)\n",
    "f1(12,16) #These arguments are called positional arguments because they will get stored at their particular positions.\n",
    "    "
   ]
  },
  {
   "cell_type": "code",
   "execution_count": 10,
   "metadata": {},
   "outputs": [
    {
     "name": "stdout",
     "output_type": "stream",
     "text": [
      "a= 16 b= 51 c= 33 d= 12\n"
     ]
    }
   ],
   "source": [
    "#concept of  keyword arguments\n",
    "def f1(a,b,c,d):\n",
    "    print(\"a=\",a,\"b=\",b,\"c=\",c,\"d=\",d)\n",
    "f1(d=12,a=16,c=33,b=51)  #Here position of arguments not matters. You can pass the value with help of name of arguments. "
   ]
  },
  {
   "cell_type": "code",
   "execution_count": null,
   "metadata": {},
   "outputs": [],
   "source": []
  }
 ],
 "metadata": {
  "kernelspec": {
   "display_name": "Python 3",
   "language": "python",
   "name": "python3"
  },
  "language_info": {
   "codemirror_mode": {
    "name": "ipython",
    "version": 3
   },
   "file_extension": ".py",
   "mimetype": "text/x-python",
   "name": "python",
   "nbconvert_exporter": "python",
   "pygments_lexer": "ipython3",
   "version": "3.7.3"
  }
 },
 "nbformat": 4,
 "nbformat_minor": 2
}
