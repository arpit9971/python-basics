{
 "cells": [
  {
   "cell_type": "code",
   "execution_count": 8,
   "metadata": {},
   "outputs": [
    {
     "name": "stdout",
     "output_type": "stream",
     "text": [
      "roll no= 1713101041\n"
     ]
    }
   ],
   "source": [
    "class person:                # base class or parent class.\n",
    "    def __init__(self,n,a):  #init function.\n",
    "        self.name=n         #instance variables name and age created.\n",
    "        self.age=a\n",
    "    def showname(self):    #instance function, object refernce will be passed to self and self can acccess static variables.\n",
    "        print(\"name is=\",self.name)\n",
    "    def showage(self):\n",
    "        print(\"my age is=\",self.age)\n",
    "class student(person):   #student class inherits the person class.\n",
    "    def __init__(self,r):\n",
    "        self.rollno=r\n",
    "    def showroll(self):\n",
    "        print(\"roll no=\",self.rollno)\n",
    "obj=student(1713101041) #this value goes to 'r' of the init function of class student.\n",
    "obj.showroll()    # it prints the roll number.\n"
   ]
  },
  {
   "cell_type": "code",
   "execution_count": 14,
   "metadata": {},
   "outputs": [
    {
     "ename": "AttributeError",
     "evalue": "'student' object has no attribute 'name'",
     "output_type": "error",
     "traceback": [
      "\u001b[1;31m---------------------------------------------------------------------------\u001b[0m",
      "\u001b[1;31mAttributeError\u001b[0m                            Traceback (most recent call last)",
      "\u001b[1;32m<ipython-input-14-55374638d80a>\u001b[0m in \u001b[0;36m<module>\u001b[1;34m\u001b[0m\n\u001b[0;32m     13\u001b[0m         \u001b[0mprint\u001b[0m\u001b[1;33m(\u001b[0m\u001b[1;34m\"roll no=\"\u001b[0m\u001b[1;33m,\u001b[0m\u001b[0mself\u001b[0m\u001b[1;33m.\u001b[0m\u001b[0mrollno\u001b[0m\u001b[1;33m)\u001b[0m\u001b[1;33m\u001b[0m\u001b[1;33m\u001b[0m\u001b[0m\n\u001b[0;32m     14\u001b[0m \u001b[0mobj\u001b[0m\u001b[1;33m=\u001b[0m\u001b[0mstudent\u001b[0m\u001b[1;33m(\u001b[0m\u001b[1;36m1713101041\u001b[0m\u001b[1;33m)\u001b[0m \u001b[1;31m#this value goes to 'r' of the init function of class student.\u001b[0m\u001b[1;33m\u001b[0m\u001b[1;33m\u001b[0m\u001b[0m\n\u001b[1;32m---> 15\u001b[1;33m \u001b[0mobj\u001b[0m\u001b[1;33m.\u001b[0m\u001b[0mshowname\u001b[0m\u001b[1;33m(\u001b[0m\u001b[1;33m)\u001b[0m\u001b[1;33m\u001b[0m\u001b[1;33m\u001b[0m\u001b[0m\n\u001b[0m",
      "\u001b[1;32m<ipython-input-14-55374638d80a>\u001b[0m in \u001b[0;36mshowname\u001b[1;34m(self)\u001b[0m\n\u001b[0;32m      4\u001b[0m         \u001b[0mself\u001b[0m\u001b[1;33m.\u001b[0m\u001b[0mage\u001b[0m\u001b[1;33m=\u001b[0m\u001b[0ma\u001b[0m\u001b[1;33m\u001b[0m\u001b[1;33m\u001b[0m\u001b[0m\n\u001b[0;32m      5\u001b[0m     \u001b[1;32mdef\u001b[0m \u001b[0mshowname\u001b[0m\u001b[1;33m(\u001b[0m\u001b[0mself\u001b[0m\u001b[1;33m)\u001b[0m\u001b[1;33m:\u001b[0m    \u001b[1;31m#instance function, object refernce will be passed to self and self can acccess static variables.\u001b[0m\u001b[1;33m\u001b[0m\u001b[1;33m\u001b[0m\u001b[0m\n\u001b[1;32m----> 6\u001b[1;33m         \u001b[0mprint\u001b[0m\u001b[1;33m(\u001b[0m\u001b[1;34m\"name is=\"\u001b[0m\u001b[1;33m,\u001b[0m\u001b[0mself\u001b[0m\u001b[1;33m.\u001b[0m\u001b[0mname\u001b[0m\u001b[1;33m)\u001b[0m\u001b[1;33m\u001b[0m\u001b[1;33m\u001b[0m\u001b[0m\n\u001b[0m\u001b[0;32m      7\u001b[0m     \u001b[1;32mdef\u001b[0m \u001b[0mshowage\u001b[0m\u001b[1;33m(\u001b[0m\u001b[0mself\u001b[0m\u001b[1;33m)\u001b[0m\u001b[1;33m:\u001b[0m\u001b[1;33m\u001b[0m\u001b[1;33m\u001b[0m\u001b[0m\n\u001b[0;32m      8\u001b[0m         \u001b[0mprint\u001b[0m\u001b[1;33m(\u001b[0m\u001b[1;34m\"my age is=\"\u001b[0m\u001b[1;33m,\u001b[0m\u001b[0mself\u001b[0m\u001b[1;33m.\u001b[0m\u001b[0mage\u001b[0m\u001b[1;33m)\u001b[0m\u001b[1;33m\u001b[0m\u001b[1;33m\u001b[0m\u001b[0m\n",
      "\u001b[1;31mAttributeError\u001b[0m: 'student' object has no attribute 'name'"
     ]
    }
   ],
   "source": [
    "class person:                # base class or parent class.\n",
    "    def __init__(self,n,a):  #init function.\n",
    "        self.name=n         #instance variables name and age created.\n",
    "        self.age=a\n",
    "    def showname(self):    #instance function, object refernce will be passed to self and self can acccess static variables.\n",
    "        print(\"name is=\",self.name)\n",
    "    def showage(self):\n",
    "        print(\"my age is=\",self.age)\n",
    "class student(person):   #student class inherits the person class.\n",
    "    def __init__(self,r):\n",
    "        self.rollno=r\n",
    "    def showroll(self):\n",
    "        print(\"roll no=\",self.rollno)\n",
    "obj=student(1713101041) #this value goes to 'r' of the init function of class student.\n",
    "obj.showname()  # it gives you error bcz showname() is using variable name and name has not yet been created so first call the init() function of the parent class, then only variable name and age will be created."
   ]
  },
  {
   "cell_type": "code",
   "execution_count": 19,
   "metadata": {},
   "outputs": [
    {
     "name": "stdout",
     "output_type": "stream",
     "text": [
      "roll no= 1713101041\n",
      "name is= Arpit\n",
      "my age is= 21\n"
     ]
    }
   ],
   "source": [
    "class person:                # base class or parent class.\n",
    "    def __init__(self,n,a):  #init function.\n",
    "        self.name=n         #instance variables name and age created.\n",
    "        self.age=a\n",
    "    def showname(self):    #instance function, object refernce will be passed to self and self can acccess static variables.\n",
    "        print(\"name is=\",self.name)\n",
    "    def showage(self):\n",
    "        print(\"my age is=\",self.age)\n",
    "class student(person):   #student class inherits the person class.\n",
    "    def __init__(self,r):\n",
    "        self.rollno=r\n",
    "    def showroll(self):\n",
    "        print(\"roll no=\",self.rollno)\n",
    "        super().__init__('Arpit',21)   # Here we are calling the init function of the parent class and it creates variables age and name. \n",
    "obj=student(1713101041) #this value goes to 'r' of the init function of class student.\n",
    "obj.showroll()    # it prints the roll number.\n",
    "obj.showname()    #obj will access the function only if variables used inside the function have been created. Take care.\n",
    "obj.showage()"
   ]
  },
  {
   "cell_type": "code",
   "execution_count": 24,
   "metadata": {},
   "outputs": [
    {
     "name": "stdout",
     "output_type": "stream",
     "text": [
      "roll no= 1713101041\n",
      "name is= Arpit\n"
     ]
    }
   ],
   "source": [
    "class person:                # base class or parent class.\n",
    "    def __init__(self,n,a):  #init function.\n",
    "        self.name=n         #instance variables name and age created.\n",
    "        self.age=a\n",
    "    def showname(self):    #instance function, object refernce will be passed to self and self can acccess static variables.\n",
    "        print(\"name is=\",self.name)\n",
    "    def showage(self):\n",
    "        print(\"my age is=\",self.age)\n",
    "class student(person):   #student class inherits the person class.\n",
    "    def __init__(self,r):\n",
    "        self.rollno=r\n",
    "        person.__init__(self,'Arpit',21)  # this is another method to call init function.\n",
    "    def showroll(self):\n",
    "        print(\"roll no=\",self.rollno)\n",
    "obj=student(1713101041) #this value goes to 'r' of the init function of class student.\n",
    "obj.showroll() # it prints the roll number.\n",
    "obj.showname()"
   ]
  },
  {
   "cell_type": "code",
   "execution_count": null,
   "metadata": {},
   "outputs": [],
   "source": []
  }
 ],
 "metadata": {
  "kernelspec": {
   "display_name": "Python 3",
   "language": "python",
   "name": "python3"
  },
  "language_info": {
   "codemirror_mode": {
    "name": "ipython",
    "version": 3
   },
   "file_extension": ".py",
   "mimetype": "text/x-python",
   "name": "python",
   "nbconvert_exporter": "python",
   "pygments_lexer": "ipython3",
   "version": "3.7.3"
  }
 },
 "nbformat": 4,
 "nbformat_minor": 2
}
