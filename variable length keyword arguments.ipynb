{
 "cells": [
  {
   "cell_type": "code",
   "execution_count": 2,
   "metadata": {},
   "outputs": [
    {
     "name": "stdout",
     "output_type": "stream",
     "text": [
      "<class 'dict'>\n"
     ]
    }
   ],
   "source": [
    "# supoose\n",
    "#f1(name='sameer',age=27)\n",
    "#f1(name='ankit',age=21,marks=100)\n",
    "#f1(name='ankit',age=21,marks=100,dob=1999)\n",
    "# now to handle these types of keyword arguments we want to make them variable keyword arguments, so that user can enter any no of keywords arguments while callng function.\n",
    "def f1(**k):  # by using two stars , dictionary is created instead of tuple. it will easily handle keyword arguments.\n",
    "    print(type(k))\n",
    "f1(name='arpit',age=21)"
   ]
  },
  {
   "cell_type": "code",
   "execution_count": 9,
   "metadata": {},
   "outputs": [
    {
     "name": "stdout",
     "output_type": "stream",
     "text": [
      "key is= name   value is= rahul\n",
      "key is= age   value is= 24\n",
      "other person details :\n",
      "key is= name   value is= siddharth yadav\n",
      "key is= age   value is= 24\n",
      "key is= dob   value is= 1996\n",
      "key is= sex   value is= male\n"
     ]
    }
   ],
   "source": [
    "#program clearly showing how to handle variable length keyword arguments.\n",
    "def personal_details(**k): # Now every keyword argument passed to it will get stored in dictionary.\n",
    "    # keep in mind that 'k is dictionary.\n",
    "    for key,value in k.items(): # k.items() will contain all pair of key and values together.\n",
    "        print(\"key is=\",key,\" \",\"value is=\",value)\n",
    "personal_details(name=\"rahul\",age=24)\n",
    "print(\"other person details :\")\n",
    "personal_details(name=\"siddharth yadav\",age=24,dob=1996,sex=\"male\")\n"
   ]
  }
 ],
 "metadata": {
  "kernelspec": {
   "display_name": "Python 3",
   "language": "python",
   "name": "python3"
  },
  "language_info": {
   "codemirror_mode": {
    "name": "ipython",
    "version": 3
   },
   "file_extension": ".py",
   "mimetype": "text/x-python",
   "name": "python",
   "nbconvert_exporter": "python",
   "pygments_lexer": "ipython3",
   "version": "3.7.3"
  }
 },
 "nbformat": 4,
 "nbformat_minor": 2
}
