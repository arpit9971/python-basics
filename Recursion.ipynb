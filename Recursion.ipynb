{
 "cells": [
  {
   "cell_type": "code",
   "execution_count": 1,
   "metadata": {},
   "outputs": [
    {
     "name": "stdout",
     "output_type": "stream",
     "text": [
      "enter the number whose factorial is to be found5\n",
      "120\n"
     ]
    }
   ],
   "source": [
    "def fact(n):\n",
    "    if(n==1):  #BASE CONDITION\n",
    "        return 1\n",
    "    else:\n",
    "        return (n*fact(n-1))\n",
    "n=int(input(\"enter the number whose factorial is to be found\"))\n",
    "ans=fact(n)\n",
    "print(ans)"
   ]
  },
  {
   "cell_type": "code",
   "execution_count": 4,
   "metadata": {},
   "outputs": [
    {
     "name": "stdout",
     "output_type": "stream",
     "text": [
      "Enter the number up till which sum is to be found20\n"
     ]
    },
    {
     "data": {
      "text/plain": [
       "210"
      ]
     },
     "execution_count": 4,
     "metadata": {},
     "output_type": "execute_result"
    }
   ],
   "source": [
    "# sum of  first N natural numbers\n",
    "def sum(n):\n",
    "    if(n==0):   #BASE CONDITION\n",
    "        return 0;\n",
    "    else:\n",
    "        return  n+sum(n-1)\n",
    "n=int(input(\"Enter the number up till which sum is to be found\"))\n",
    "sum(n)"
   ]
  },
  {
   "cell_type": "code",
   "execution_count": 5,
   "metadata": {},
   "outputs": [
    {
     "name": "stdout",
     "output_type": "stream",
     "text": [
      "Enter the number up till which sum is to be found5\n"
     ]
    },
    {
     "data": {
      "text/plain": [
       "55"
      ]
     },
     "execution_count": 5,
     "metadata": {},
     "output_type": "execute_result"
    }
   ],
   "source": [
    "# sum of squares of first N natural numbers\n",
    "def sum(n):\n",
    "    if(n==0):   #BASE CONDITION\n",
    "        return 0;\n",
    "    else:\n",
    "        return  (n*n)+sum(n-1)\n",
    "n=int(input(\"Enter the number up till which sum is to be found\"))\n",
    "sum(n)"
   ]
  },
  {
   "cell_type": "code",
   "execution_count": 6,
   "metadata": {},
   "outputs": [
    {
     "name": "stdout",
     "output_type": "stream",
     "text": [
      "Enter the number up till which sum is to be found5\n"
     ]
    },
    {
     "data": {
      "text/plain": [
       "225"
      ]
     },
     "execution_count": 6,
     "metadata": {},
     "output_type": "execute_result"
    }
   ],
   "source": [
    "# sum of cubes of first N natural numbers\n",
    "def sum(n):\n",
    "    if(n==0):   #BASE CONDITION\n",
    "        return 0;\n",
    "    else:\n",
    "        return  (n*n*n)+sum(n-1)\n",
    "n=int(input(\"Enter the number up till which sum is to be found\"))\n",
    "sum(n)"
   ]
  },
  {
   "cell_type": "code",
   "execution_count": 11,
   "metadata": {},
   "outputs": [
    {
     "name": "stdout",
     "output_type": "stream",
     "text": [
      "enter the first number12\n",
      "enter the second number30\n"
     ]
    },
    {
     "data": {
      "text/plain": [
       "6"
      ]
     },
     "execution_count": 11,
     "metadata": {},
     "output_type": "execute_result"
    }
   ],
   "source": [
    "# Recursive function to calculate hcf of two numbers.\n",
    "def hcf_recursive(a,b):\n",
    "    if (a==0):\n",
    "        return b\n",
    "    elif (b==0):\n",
    "        return a\n",
    "    else:\n",
    "        return hcf_recursive(b,a%b)\n",
    "a=int(input(\"enter the first number\"))\n",
    "b=int(input(\"enter the second number\"))\n",
    "hcf_recursive(a,b)"
   ]
  }
 ],
 "metadata": {
  "kernelspec": {
   "display_name": "Python 3",
   "language": "python",
   "name": "python3"
  },
  "language_info": {
   "codemirror_mode": {
    "name": "ipython",
    "version": 3
   },
   "file_extension": ".py",
   "mimetype": "text/x-python",
   "name": "python",
   "nbconvert_exporter": "python",
   "pygments_lexer": "ipython3",
   "version": "3.7.3"
  }
 },
 "nbformat": 4,
 "nbformat_minor": 2
}
