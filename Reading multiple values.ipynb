{
 "cells": [
  {
   "cell_type": "markdown",
   "metadata": {},
   "source": []
  },
  {
   "cell_type": "code",
   "execution_count": 8,
   "metadata": {},
   "outputs": [
    {
     "name": "stdout",
     "output_type": "stream",
     "text": [
      "enter the values45,78,96\n",
      "x is : 45\n",
      "y is : 78\n",
      "z is : 96\n",
      "<class 'str'> <class 'str'> <class 'str'>\n"
     ]
    }
   ],
   "source": [
    "# here we are reading values to the specific variables x,y,z.\n",
    "x,y,z=input(\"enter the values\").split(',')\n",
    "print(\"x is :\",x)\n",
    "print(\"y is :\",y)\n",
    "print(\"z is :\",z)\n",
    "print(type(x),type(y),type(z))\n",
    "# note that x,y,z gets stored in form of string.\n",
    "# To convert them in to integer see below example"
   ]
  },
  {
   "cell_type": "code",
   "execution_count": 10,
   "metadata": {},
   "outputs": [
    {
     "name": "stdout",
     "output_type": "stream",
     "text": [
      "enter the values45,74,82\n",
      "x is : 45\n",
      "y is : 74\n",
      "z is : 82\n",
      "<class 'int'> <class 'int'> <class 'int'>\n"
     ]
    }
   ],
   "source": [
    "# first see below examples then refer to this one to get clear understanding.\n",
    "# How to take multiple values and they all should be of 'int' type\n",
    "x,y,z=[int(x) for x in input(\"enter the values\").split(',')] # to accept multiple integer values ,you need to do this.\n",
    "print(\"x is :\",x)\n",
    "print(\"y is :\",y)\n",
    "print(\"z is :\",z)\n",
    "print(type(x),type(y),type(z))"
   ]
  },
  {
   "cell_type": "code",
   "execution_count": 12,
   "metadata": {},
   "outputs": [
    {
     "name": "stdout",
     "output_type": "stream",
     "text": [
      "enter the values12,22,33,54,76\n",
      "['12', '22', '33', '54', '76']\n"
     ]
    }
   ],
   "source": [
    "x=input(\"enter the values\").split(',')\n",
    "print(x)   #values get stored in form of list and in string form."
   ]
  },
  {
   "cell_type": "code",
   "execution_count": 3,
   "metadata": {},
   "outputs": [
    {
     "name": "stdout",
     "output_type": "stream",
     "text": [
      "enter date14/8/2019\n",
      "['14', '8', '2019']\n"
     ]
    }
   ],
   "source": [
    "x=input(\"enter date\").split('/')\n",
    "print(x)"
   ]
  },
  {
   "cell_type": "code",
   "execution_count": 1,
   "metadata": {},
   "outputs": [
    {
     "name": "stdout",
     "output_type": "stream",
     "text": [
      "enter the values12,13,14,15\n",
      "['12', '13', '14', '15']\n"
     ]
    }
   ],
   "source": [
    "x=input(\"enter the values\").split(',')\n",
    "print(x)"
   ]
  },
  {
   "cell_type": "code",
   "execution_count": 14,
   "metadata": {},
   "outputs": [
    {
     "name": "stdout",
     "output_type": "stream",
     "text": [
      "enter the values'arpit',34,5.55\n",
      "arpit <class 'str'>\n",
      "34 <class 'int'>\n",
      "5.55 <class 'float'>\n"
     ]
    }
   ],
   "source": [
    "# Reading multiple values of different datatype\n",
    "a,b,c=[eval(x) for x in input(\"enter the values\").split(',')]\n",
    "print(a,type(a))\n",
    "print(b,type(b))\n",
    "print(c,type(c))"
   ]
  },
  {
   "cell_type": "code",
   "execution_count": 15,
   "metadata": {},
   "outputs": [
    {
     "name": "stdout",
     "output_type": "stream",
     "text": [
      "enter the values'Arpit',21,40.5\n",
      "['Arpit', 21, 40.5]\n"
     ]
    }
   ],
   "source": [
    "L=[eval(x) for x in input(\"enter the values\").split(',')]\n",
    "print(L) # L gets stored in the form of List."
   ]
  },
  {
   "cell_type": "code",
   "execution_count": 16,
   "metadata": {},
   "outputs": [
    {
     "name": "stdout",
     "output_type": "stream",
     "text": [
      "enter the values'hello',13,22.45\n",
      "('hello', 13, 22.45)\n"
     ]
    }
   ],
   "source": [
    "# How to convert list in to tuple. So use T=tuple(list) . This concept has been used below.\n",
    "T=tuple([eval(x) for x in input(\"enter the values\").split(',')])\n",
    "print(T) # T gets stored in form of tuple."
   ]
  },
  {
   "cell_type": "code",
   "execution_count": 18,
   "metadata": {},
   "outputs": [
    {
     "name": "stdout",
     "output_type": "stream",
     "text": [
      "enter the values'arpit',55,3.6\n",
      "{'arpit', 3.6, 55}\n"
     ]
    }
   ],
   "source": [
    "S=set([eval(x) for x in input(\"enter the values\").split(',')])\n",
    "print(S)  # use S=set(list)  to convert any list in to set."
   ]
  },
  {
   "cell_type": "code",
   "execution_count": 1,
   "metadata": {},
   "outputs": [
    {
     "name": "stdout",
     "output_type": "stream",
     "text": [
      "enter values1,'a'\n",
      "enter values2,'bajpai'\n",
      "enter values3,'arpit'\n",
      "{'1': \"'a'\", '2': \"'bajpai'\", '3': \"'arpit'\"}\n"
     ]
    }
   ],
   "source": [
    "d=dict(input(\"enter values\").split(',') for _ in range(3))\n",
    "print(d)"
   ]
  }
 ],
 "metadata": {
  "kernelspec": {
   "display_name": "Python 3",
   "language": "python",
   "name": "python3"
  },
  "language_info": {
   "codemirror_mode": {
    "name": "ipython",
    "version": 3
   },
   "file_extension": ".py",
   "mimetype": "text/x-python",
   "name": "python",
   "nbconvert_exporter": "python",
   "pygments_lexer": "ipython3",
   "version": "3.7.3"
  }
 },
 "nbformat": 4,
 "nbformat_minor": 2
}
