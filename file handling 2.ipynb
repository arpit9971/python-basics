{
 "cells": [
  {
   "cell_type": "code",
   "execution_count": 15,
   "metadata": {},
   "outputs": [
    {
     "data": {
      "text/plain": [
       "'Hello everyone.\\n'"
      ]
     },
     "execution_count": 15,
     "metadata": {},
     "output_type": "execute_result"
    }
   ],
   "source": [
    "f=open('arpit.txt','w')\n",
    "f.write(\"Hello everyone.\\n Apit Bajpai. helllo mumbai . it's a fine weather here. \\n Hope all is well. \\n just enjoy the life to the fullest.\")\n",
    "f=open('arpit.txt','r')\n",
    "f.readline()"
   ]
  },
  {
   "cell_type": "code",
   "execution_count": 16,
   "metadata": {},
   "outputs": [
    {
     "data": {
      "text/plain": [
       "['Hello everyone.\\n',\n",
       " \" Apit Bajpai. helllo mumbai . it's a fine weather here. \\n\",\n",
       " ' Hope all is well. \\n',\n",
       " ' just enjoy the life to the fullest.']"
      ]
     },
     "execution_count": 16,
     "metadata": {},
     "output_type": "execute_result"
    }
   ],
   "source": [
    "f=open('arpit.txt','w')\n",
    "f.write(\"Hello everyone.\\n Apit Bajpai. helllo mumbai . it's a fine weather here. \\n Hope all is well. \\n just enjoy the life to the fullest.\")\n",
    "f=open('arpit.txt','r')\n",
    "f.readlines()  # it returns strings line by line in form of list."
   ]
  },
  {
   "cell_type": "code",
   "execution_count": 17,
   "metadata": {},
   "outputs": [
    {
     "data": {
      "text/plain": [
       "\"Hello everyone.\\n Apit Bajpai. helllo mumbai . it's a fine weather here. \\n Hope all is well. \\n just enjoy the life to the fullest.\""
      ]
     },
     "execution_count": 17,
     "metadata": {},
     "output_type": "execute_result"
    }
   ],
   "source": [
    "f=open('arpit.txt','w')\n",
    "f.write(\"Hello everyone.\\n Apit Bajpai. helllo mumbai . it's a fine weather here. \\n Hope all is well. \\n just enjoy the life to the fullest.\")\n",
    "f=open('arpit.txt','r')\n",
    "f.read() # it reads the file as a hole."
   ]
  },
  {
   "cell_type": "code",
   "execution_count": 19,
   "metadata": {},
   "outputs": [
    {
     "data": {
      "text/plain": [
       "'Hello everyone.\\n Api'"
      ]
     },
     "execution_count": 19,
     "metadata": {},
     "output_type": "execute_result"
    }
   ],
   "source": [
    "f=open('arpit.txt','w')\n",
    "f.write(\"Hello everyone.\\n Apit Bajpai. helllo mumbai . it's a fine weather here. \\n Hope all is well. \\n just enjoy the life to the fullest.\")\n",
    "f=open('arpit.txt','r')\n",
    "f.read(20) # It reads the first 20 characters of the file. It also includes \\n."
   ]
  },
  {
   "cell_type": "code",
   "execution_count": 24,
   "metadata": {},
   "outputs": [
    {
     "data": {
      "text/plain": [
       "'bhopal\\nnew delhi\\nmumbai\\njapur'"
      ]
     },
     "execution_count": 24,
     "metadata": {},
     "output_type": "execute_result"
    }
   ],
   "source": [
    "# Writing a list in to the file.\n",
    "f=open('bjp.txt','w')\n",
    "l=['bhopal\\n','new delhi\\n','mumbai\\n','japur']\n",
    "f.writelines(l) # writelines function passes the list in to the file.\n",
    "f=open('bjp.txt','r')\n",
    "f.read()\n"
   ]
  },
  {
   "cell_type": "code",
   "execution_count": 28,
   "metadata": {},
   "outputs": [
    {
     "name": "stdout",
     "output_type": "stream",
     "text": [
      "bhopal\n",
      "\n",
      "\n",
      "\n",
      "new delhi\n",
      "\n",
      "mumbai\n",
      "\n",
      "japur\n"
     ]
    }
   ],
   "source": [
    "# PROGRAM TO READ ANY OF THE FILE LINE BY LINE\n",
    "f=open('bjp.txt','r')\n",
    "while True:\n",
    "    s1=f.readline()\n",
    "    if(s1==''):\n",
    "        break\n",
    "    print(s1)"
   ]
  }
 ],
 "metadata": {
  "kernelspec": {
   "display_name": "Python 3",
   "language": "python",
   "name": "python3"
  },
  "language_info": {
   "codemirror_mode": {
    "name": "ipython",
    "version": 3
   },
   "file_extension": ".py",
   "mimetype": "text/x-python",
   "name": "python",
   "nbconvert_exporter": "python",
   "pygments_lexer": "ipython3",
   "version": "3.7.3"
  }
 },
 "nbformat": 4,
 "nbformat_minor": 2
}
