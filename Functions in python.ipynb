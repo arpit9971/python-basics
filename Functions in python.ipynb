{
 "cells": [
  {
   "cell_type": "code",
   "execution_count": 1,
   "metadata": {},
   "outputs": [
    {
     "name": "stdout",
     "output_type": "stream",
     "text": [
      "enter first number :47\n",
      "enter second number :74\n",
      "swapped numbers are 74 47\n"
     ]
    }
   ],
   "source": [
    "# There are 4 types of functions.\n",
    "#1.) no arguments, no return type\n",
    "def swap():\n",
    "    a=int(input(\"enter first number :\"))\n",
    "    b=int(input(\"enter second number :\"))\n",
    "    c=a\n",
    "    a=b\n",
    "    b=c\n",
    "    print(\"swapped numbers are\",a,b)\n",
    "swap()"
   ]
  },
  {
   "cell_type": "code",
   "execution_count": 16,
   "metadata": {},
   "outputs": [
    {
     "name": "stdout",
     "output_type": "stream",
     "text": [
      "enter the number to be reversed :742\n",
      "The Reverse of the given number is: 247\n"
     ]
    }
   ],
   "source": [
    "# 2.) with arguments ,with return type\n",
    "def reverse_of_number(n):\n",
    "    s=0\n",
    "    while(n>0):\n",
    "        r=n%10 \n",
    "        s=s*10+r\n",
    "        n=int(n/10)\n",
    "    return s\n",
    "n=int(input(\"enter the number to be reversed :\"))\n",
    "ans=reverse_of_number(n)\n",
    "print(\"The Reverse of the given number is:\",ans)"
   ]
  },
  {
   "cell_type": "code",
   "execution_count": 17,
   "metadata": {},
   "outputs": [
    {
     "name": "stdout",
     "output_type": "stream",
     "text": [
      "enter the first string:Arpit\n",
      "enter the second stringBajpai\n",
      "concaatenated string is :\n"
     ]
    },
    {
     "data": {
      "text/plain": [
       "'ArpitBajpai'"
      ]
     },
     "execution_count": 17,
     "metadata": {},
     "output_type": "execute_result"
    }
   ],
   "source": [
    "# 3.)No Arguments ,With return type\n",
    "n1=input(\"enter the first string:\")\n",
    "n2=input(\"enter the second string\")\n",
    "def add_string():\n",
    "    print(\"concatenated string is :\")\n",
    "    ans=n1+n2\n",
    "    return ans\n",
    "add_string()"
   ]
  },
  {
   "cell_type": "code",
   "execution_count": 22,
   "metadata": {},
   "outputs": [
    {
     "name": "stdout",
     "output_type": "stream",
     "text": [
      "Enter the Year to be checked:1996\n",
      "year is not a century year\n",
      "Entered year is a leap year\n",
      "Thank you!\n"
     ]
    }
   ],
   "source": [
    "# 4.) with arguments and no return type\n",
    "def leap_year(year):\n",
    "    if(year%100==0):\n",
    "        print(\"year is century year\")\n",
    "        if(year%400==0):\n",
    "            print(\"Entered century year is leap year\")\n",
    "        else:\n",
    "            print(\"Entered century year is not a leap year\")\n",
    "    else:\n",
    "        print(\"year is not a century year\")\n",
    "        if(year%4==0):\n",
    "            print(\"Entered year is a leap year\")\n",
    "        else:\n",
    "            print(\"Enterd year is not a leap year\")\n",
    "    print(\"Thank you!\")\n",
    "year=int(input(\"Enter the Year to be checked:\"))\n",
    "leap_year(year)"
   ]
  }
 ],
 "metadata": {
  "kernelspec": {
   "display_name": "Python 3",
   "language": "python",
   "name": "python3"
  },
  "language_info": {
   "codemirror_mode": {
    "name": "ipython",
    "version": 3
   },
   "file_extension": ".py",
   "mimetype": "text/x-python",
   "name": "python",
   "nbconvert_exporter": "python",
   "pygments_lexer": "ipython3",
   "version": "3.7.3"
  }
 },
 "nbformat": 4,
 "nbformat_minor": 2
}
